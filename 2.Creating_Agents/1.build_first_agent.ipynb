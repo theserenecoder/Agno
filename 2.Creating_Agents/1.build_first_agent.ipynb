{
 "cells": [
  {
   "cell_type": "markdown",
   "id": "89619df7",
   "metadata": {},
   "source": [
    "## Build Your First Agent"
   ]
  },
  {
   "cell_type": "code",
   "execution_count": 4,
   "id": "faf476e0",
   "metadata": {},
   "outputs": [],
   "source": [
    "import os\n",
    "from dotenv import load_dotenv\n",
    "load_dotenv()\n",
    "\n",
    "from agno.agent import Agent\n",
    "from agno.models.openai import OpenAIChat\n",
    "from agno.tools.hackernews import HackerNewsTools"
   ]
  },
  {
   "cell_type": "code",
   "execution_count": 5,
   "id": "ecc158e5",
   "metadata": {},
   "outputs": [
    {
     "data": {
      "text/html": [
       "<pre style=\"white-space:pre;overflow-x:auto;line-height:normal;font-family:Menlo,'DejaVu Sans Mono',consolas,'Courier New',monospace\"></pre>\n"
      ],
      "text/plain": []
     },
     "metadata": {},
     "output_type": "display_data"
    }
   ],
   "source": [
    "agent = Agent(\n",
    "    model=OpenAIChat(id='gpt-4o-mini'),\n",
    "    instructions=\"Write a report on the topic. Output only the report\",\n",
    "    tools=[HackerNewsTools()],\n",
    "    markdown=True\n",
    ")\n",
    "\n",
    "agent.print_response(\"Trending startup and producsts.\", stream=True)"
   ]
  },
  {
   "cell_type": "code",
   "execution_count": null,
   "id": "d54f7265",
   "metadata": {},
   "outputs": [],
   "source": []
  },
  {
   "cell_type": "code",
   "execution_count": null,
   "id": "e5050389",
   "metadata": {},
   "outputs": [],
   "source": []
  }
 ],
 "metadata": {
  "kernelspec": {
   "display_name": "agno-env",
   "language": "python",
   "name": "python3"
  },
  "language_info": {
   "codemirror_mode": {
    "name": "ipython",
    "version": 3
   },
   "file_extension": ".py",
   "mimetype": "text/x-python",
   "name": "python",
   "nbconvert_exporter": "python",
   "pygments_lexer": "ipython3",
   "version": "3.12.11"
  }
 },
 "nbformat": 4,
 "nbformat_minor": 5
}
